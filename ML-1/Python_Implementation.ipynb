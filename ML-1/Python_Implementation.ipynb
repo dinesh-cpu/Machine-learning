{
  "nbformat": 4,
  "nbformat_minor": 0,
  "metadata": {
    "kernelspec": {
      "display_name": "Python 3",
      "language": "python",
      "name": "python3"
    },
    "language_info": {
      "codemirror_mode": {
        "name": "ipython",
        "version": 3
      },
      "file_extension": ".py",
      "mimetype": "text/x-python",
      "name": "python",
      "nbconvert_exporter": "python",
      "pygments_lexer": "ipython3",
      "version": "3.8.3"
    },
    "colab": {
      "name": "MLP 7 Python Implementation.ipynb",
      "provenance": []
    }
  },
  "cells": [
    {
      "cell_type": "markdown",
      "metadata": {
        "id": "FQ-yMdFF-VKE"
      },
      "source": [
        "## <font color = \"green\">How you print</font>"
      ]
    },
    {
      "cell_type": "code",
      "metadata": {
        "id": "eFGdvJqi-VKG",
        "outputId": "7aea3008-0e16-4108-d0ae-81f2048ef3e3"
      },
      "source": [
        "print(\"ji\")"
      ],
      "execution_count": null,
      "outputs": [
        {
          "output_type": "stream",
          "text": [
            "ji\n"
          ],
          "name": "stdout"
        }
      ]
    },
    {
      "cell_type": "code",
      "metadata": {
        "id": "4QML-BXv-VKH",
        "outputId": "fc801e68-e105-4962-943e-309f5b4494fa"
      },
      "source": [
        "print(\"bfjsdb\")"
      ],
      "execution_count": null,
      "outputs": [
        {
          "output_type": "stream",
          "text": [
            "bfjsdb\n"
          ],
          "name": "stdout"
        }
      ]
    },
    {
      "cell_type": "markdown",
      "metadata": {
        "id": "tZ4heaYs-VKH"
      },
      "source": [
        "## Number and Variables"
      ]
    },
    {
      "cell_type": "code",
      "metadata": {
        "id": "fXXXtLA0-VKI",
        "outputId": "0a129c64-4781-4e96-d1a8-93be9076cb2d"
      },
      "source": [
        "print(1+2)\n",
        "print(2+4)"
      ],
      "execution_count": null,
      "outputs": [
        {
          "output_type": "stream",
          "text": [
            "3\n",
            "6\n"
          ],
          "name": "stdout"
        }
      ]
    },
    {
      "cell_type": "code",
      "metadata": {
        "id": "MGwqO3ht-VKI"
      },
      "source": [
        "a = 20\n",
        "b = 2"
      ],
      "execution_count": null,
      "outputs": []
    },
    {
      "cell_type": "code",
      "metadata": {
        "id": "1iBK18Z5-VKI",
        "outputId": "e780f293-a419-4c9a-a456-0c82eb7c5add"
      },
      "source": [
        "print(a+b)\n",
        "print(a-b)\n",
        "print(a*b)\n",
        "print(a/b)"
      ],
      "execution_count": null,
      "outputs": [
        {
          "output_type": "stream",
          "text": [
            "22\n",
            "18\n",
            "40\n",
            "10.0\n"
          ],
          "name": "stdout"
        }
      ]
    },
    {
      "cell_type": "code",
      "metadata": {
        "id": "g-lOcSkD-VKJ",
        "outputId": "5308edc2-ec61-45ca-843d-597979d941a3"
      },
      "source": [
        "print(5/3)"
      ],
      "execution_count": null,
      "outputs": [
        {
          "output_type": "stream",
          "text": [
            "1.6666666666666667\n"
          ],
          "name": "stdout"
        }
      ]
    },
    {
      "cell_type": "code",
      "metadata": {
        "id": "8-O0WhZK-VKJ",
        "outputId": "9c6a91d0-c3b9-4f86-94f2-beb1107ce729"
      },
      "source": [
        "print(5//3)"
      ],
      "execution_count": null,
      "outputs": [
        {
          "output_type": "stream",
          "text": [
            "1\n"
          ],
          "name": "stdout"
        }
      ]
    },
    {
      "cell_type": "code",
      "metadata": {
        "id": "3Zgfmayq-VKJ",
        "outputId": "217bf008-02c0-478b-8685-dd66314ba1af"
      },
      "source": [
        "print(a**b)"
      ],
      "execution_count": null,
      "outputs": [
        {
          "output_type": "stream",
          "text": [
            "400\n"
          ],
          "name": "stdout"
        }
      ]
    },
    {
      "cell_type": "code",
      "metadata": {
        "id": "3_9zZY9_-VKK",
        "outputId": "96fe2e4c-0706-4b74-d265-c61e1f7f9bf8"
      },
      "source": [
        "a%b"
      ],
      "execution_count": null,
      "outputs": [
        {
          "output_type": "execute_result",
          "data": {
            "text/plain": [
              "0"
            ]
          },
          "metadata": {
            "tags": []
          },
          "execution_count": 25
        }
      ]
    },
    {
      "cell_type": "code",
      "metadata": {
        "id": "5qlkWpvX-VKL",
        "outputId": "23afa22a-0d87-4d7e-c9d3-72aad9ef23b7"
      },
      "source": [
        "round(number = 1.345, ndigits=2)"
      ],
      "execution_count": null,
      "outputs": [
        {
          "output_type": "execute_result",
          "data": {
            "text/plain": [
              "1.34"
            ]
          },
          "metadata": {
            "tags": []
          },
          "execution_count": 26
        }
      ]
    },
    {
      "cell_type": "code",
      "metadata": {
        "id": "c9zg2G43-VKM",
        "outputId": "f7a35c8b-056b-493c-d3c1-045caca83c6d"
      },
      "source": [
        "round(number = 1.346, ndigits=2)"
      ],
      "execution_count": null,
      "outputs": [
        {
          "output_type": "execute_result",
          "data": {
            "text/plain": [
              "1.35"
            ]
          },
          "metadata": {
            "tags": []
          },
          "execution_count": 27
        }
      ]
    },
    {
      "cell_type": "code",
      "metadata": {
        "id": "KVQac7Vn-VKM",
        "outputId": "d0af6f08-300a-4e5d-f00c-5ff2b936842e"
      },
      "source": [
        "round(3.398555, 2)"
      ],
      "execution_count": null,
      "outputs": [
        {
          "output_type": "execute_result",
          "data": {
            "text/plain": [
              "3.4"
            ]
          },
          "metadata": {
            "tags": []
          },
          "execution_count": 28
        }
      ]
    },
    {
      "cell_type": "markdown",
      "metadata": {
        "id": "ypMqRYtt-VKM"
      },
      "source": [
        "## Naming Convention"
      ]
    },
    {
      "cell_type": "code",
      "metadata": {
        "id": "K5VyYE26-VKN"
      },
      "source": [
        "_a231 =0"
      ],
      "execution_count": null,
      "outputs": []
    },
    {
      "cell_type": "code",
      "metadata": {
        "id": "BiZE0crc-VKN"
      },
      "source": [
        "aaa_343 = 0"
      ],
      "execution_count": null,
      "outputs": []
    },
    {
      "cell_type": "code",
      "metadata": {
        "id": "bLHcjgaI-VKN",
        "outputId": "b2df0a5e-1300-4403-a84a-16172ff826f7"
      },
      "source": [
        "aaa@dfs = 0"
      ],
      "execution_count": null,
      "outputs": [
        {
          "output_type": "error",
          "ename": "SyntaxError",
          "evalue": "cannot assign to operator (<ipython-input-31-89cc0cc9932c>, line 1)",
          "traceback": [
            "\u001b[0;36m  File \u001b[0;32m\"<ipython-input-31-89cc0cc9932c>\"\u001b[0;36m, line \u001b[0;32m1\u001b[0m\n\u001b[0;31m    aaa@dfs = 0\u001b[0m\n\u001b[0m    ^\u001b[0m\n\u001b[0;31mSyntaxError\u001b[0m\u001b[0;31m:\u001b[0m cannot assign to operator\n"
          ]
        }
      ]
    },
    {
      "cell_type": "code",
      "metadata": {
        "id": "uc-fIogl-VKN"
      },
      "source": [
        "_232a=0"
      ],
      "execution_count": null,
      "outputs": []
    },
    {
      "cell_type": "code",
      "metadata": {
        "id": "5ZbnL1rz-VKN"
      },
      "source": [
        "# snakecase\n",
        "student_percent = 0"
      ],
      "execution_count": null,
      "outputs": []
    },
    {
      "cell_type": "code",
      "metadata": {
        "id": "AprfrtOO-VKO"
      },
      "source": [
        "# capital uppercase\n",
        "STUDENT_PERCENT = 0"
      ],
      "execution_count": null,
      "outputs": []
    },
    {
      "cell_type": "code",
      "metadata": {
        "id": "mQUQ7pvn-VKO"
      },
      "source": [
        "# upper camel case\n",
        "StudentPercent = 0 "
      ],
      "execution_count": null,
      "outputs": []
    },
    {
      "cell_type": "markdown",
      "metadata": {
        "id": "LAiN-LY8-VKO"
      },
      "source": [
        "# String"
      ]
    },
    {
      "cell_type": "code",
      "metadata": {
        "id": "PIBsksn--VKO"
      },
      "source": [
        "# dynamic typing\n",
        "\n",
        "a = \"hi\"\n",
        "b = 'hi'"
      ],
      "execution_count": null,
      "outputs": []
    },
    {
      "cell_type": "code",
      "metadata": {
        "id": "dCpNYWzc-VKO",
        "outputId": "2af91140-65cd-424e-8fb6-6a5d5e07af62"
      },
      "source": [
        "type(b)"
      ],
      "execution_count": null,
      "outputs": [
        {
          "output_type": "execute_result",
          "data": {
            "text/plain": [
              "str"
            ]
          },
          "metadata": {
            "tags": []
          },
          "execution_count": 41
        }
      ]
    },
    {
      "cell_type": "code",
      "metadata": {
        "id": "ED5FlnL--VKP",
        "outputId": "e5231c07-9be2-42c7-8411-070ca50c4700"
      },
      "source": [
        "print('hi \"lecture\"')"
      ],
      "execution_count": null,
      "outputs": [
        {
          "output_type": "stream",
          "text": [
            "hi \"lecture\"\n"
          ],
          "name": "stdout"
        }
      ]
    },
    {
      "cell_type": "code",
      "metadata": {
        "id": "s3JS7-8O-VKP",
        "outputId": "7dbf158a-6886-4394-e99c-1603126e42b6"
      },
      "source": [
        "a = \"hi\" + \"5\"\n",
        "a"
      ],
      "execution_count": null,
      "outputs": [
        {
          "output_type": "execute_result",
          "data": {
            "text/plain": [
              "'hi5'"
            ]
          },
          "metadata": {
            "tags": []
          },
          "execution_count": 48
        }
      ]
    },
    {
      "cell_type": "code",
      "metadata": {
        "id": "LTLnxX3X-VKP",
        "outputId": "d2d3a3d8-2196-41a9-8639-5772640a14ad"
      },
      "source": [
        "a = \"hi\" * 5\n",
        "a"
      ],
      "execution_count": null,
      "outputs": [
        {
          "output_type": "execute_result",
          "data": {
            "text/plain": [
              "'hihihihihi'"
            ]
          },
          "metadata": {
            "tags": []
          },
          "execution_count": 50
        }
      ]
    },
    {
      "cell_type": "code",
      "metadata": {
        "id": "K7k3wZ4k-VKP",
        "outputId": "ecebde37-740d-4741-ead8-fc3fd2e7db99"
      },
      "source": [
        "print(\"hi\\n there\")"
      ],
      "execution_count": null,
      "outputs": [
        {
          "output_type": "stream",
          "text": [
            "hi\n",
            " there\n"
          ],
          "name": "stdout"
        }
      ]
    },
    {
      "cell_type": "code",
      "metadata": {
        "id": "4Qzwp-Cu-VKP",
        "outputId": "e7483ce2-49a8-42e0-c004-fa542392dd91"
      },
      "source": [
        "print(\"hi\\tthere\")"
      ],
      "execution_count": null,
      "outputs": [
        {
          "output_type": "stream",
          "text": [
            "hi\tthere\n"
          ],
          "name": "stdout"
        }
      ]
    },
    {
      "cell_type": "markdown",
      "metadata": {
        "id": "lNUAcyuf-VKQ"
      },
      "source": [
        "## Formatting the Strings"
      ]
    },
    {
      "cell_type": "code",
      "metadata": {
        "id": "cMvCneMP-VKQ"
      },
      "source": [
        "a = 20\n",
        "b = \"20\""
      ],
      "execution_count": null,
      "outputs": []
    },
    {
      "cell_type": "code",
      "metadata": {
        "id": "1j8xxAlN-VKQ",
        "outputId": "af3b23c3-4276-4027-8c56-6f2e9bc8d4d9"
      },
      "source": [
        "print(\"Hi the value is : \"+ b)"
      ],
      "execution_count": null,
      "outputs": [
        {
          "output_type": "stream",
          "text": [
            "Hi the value is : 20\n"
          ],
          "name": "stdout"
        }
      ]
    },
    {
      "cell_type": "code",
      "metadata": {
        "id": "jN2jeBtd-VKQ",
        "outputId": "7226177e-756b-4445-ce18-8de95e270270"
      },
      "source": [
        "print(\"Hi the value is : \"+ str(a))"
      ],
      "execution_count": null,
      "outputs": [
        {
          "output_type": "stream",
          "text": [
            "Hi the value is : 20\n"
          ],
          "name": "stdout"
        }
      ]
    },
    {
      "cell_type": "code",
      "metadata": {
        "id": "NV1joZmI-VKR",
        "outputId": "b7cd7035-962c-4856-d77e-a315924d4365"
      },
      "source": [
        "# f-strings\n",
        "\n",
        "print(f\"Hi the value is : {a} and the square of it = {a**2}\")"
      ],
      "execution_count": null,
      "outputs": [
        {
          "output_type": "stream",
          "text": [
            "Hi the value is : 20 and the square of it = 400\n"
          ],
          "name": "stdout"
        }
      ]
    },
    {
      "cell_type": "code",
      "metadata": {
        "id": "k6uzZh4s-VKR",
        "outputId": "0e9afc64-e8b1-4ff4-9c0f-c944bad67274"
      },
      "source": [
        "# format method\n",
        "print(\"Hi the value is : {} and the square of it = {}\".format(a, a**2))"
      ],
      "execution_count": null,
      "outputs": [
        {
          "output_type": "stream",
          "text": [
            "Hi the value is : 20 and the square of it = 400\n"
          ],
          "name": "stdout"
        }
      ]
    },
    {
      "cell_type": "code",
      "metadata": {
        "id": "8L-tSRHn-VKR",
        "outputId": "443c6168-5d47-4779-c3ee-8df562dbf923"
      },
      "source": [
        "print(\"Hi the value is : \", a)"
      ],
      "execution_count": null,
      "outputs": [
        {
          "output_type": "stream",
          "text": [
            "Hi the value is :  20\n"
          ],
          "name": "stdout"
        }
      ]
    },
    {
      "cell_type": "markdown",
      "metadata": {
        "id": "0mb_kJPa-VKS"
      },
      "source": [
        "## Converting data types"
      ]
    },
    {
      "cell_type": "code",
      "metadata": {
        "id": "J89Lg94a-VKS"
      },
      "source": [
        "a = \"23\"\n",
        "b = 2"
      ],
      "execution_count": null,
      "outputs": []
    },
    {
      "cell_type": "code",
      "metadata": {
        "id": "lDcOTRlb-VKS",
        "outputId": "12fbbc70-84d1-496a-edc1-a6354569cd39"
      },
      "source": [
        "a + str(b)"
      ],
      "execution_count": null,
      "outputs": [
        {
          "output_type": "execute_result",
          "data": {
            "text/plain": [
              "'232'"
            ]
          },
          "metadata": {
            "tags": []
          },
          "execution_count": 62
        }
      ]
    },
    {
      "cell_type": "code",
      "metadata": {
        "id": "rS51k-_4-VKT",
        "outputId": "de1a3251-7489-4af1-c8cd-0444e95d1ba8"
      },
      "source": [
        "type(a + str(b))"
      ],
      "execution_count": null,
      "outputs": [
        {
          "output_type": "execute_result",
          "data": {
            "text/plain": [
              "str"
            ]
          },
          "metadata": {
            "tags": []
          },
          "execution_count": 63
        }
      ]
    },
    {
      "cell_type": "code",
      "metadata": {
        "id": "mTnbGLeo-VKT",
        "outputId": "cbb002fb-e5ee-40fc-87ee-b092d4b9afbb"
      },
      "source": [
        "a = 2\n",
        "b = float(a)\n",
        "\n",
        "print(a)\n",
        "print(b)"
      ],
      "execution_count": null,
      "outputs": [
        {
          "output_type": "stream",
          "text": [
            "2\n",
            "2.0\n"
          ],
          "name": "stdout"
        }
      ]
    },
    {
      "cell_type": "markdown",
      "metadata": {
        "id": "Usyh61jW-VKT"
      },
      "source": [
        "### User input"
      ]
    },
    {
      "cell_type": "code",
      "metadata": {
        "id": "p5xrTMYv-VKT",
        "outputId": "f11e3bf3-22e2-4247-dee0-32dcd4947bb3"
      },
      "source": [
        "a = float(input(\"Enter the number: \"))"
      ],
      "execution_count": null,
      "outputs": [
        {
          "output_type": "stream",
          "text": [
            "Enter the number: 45\n"
          ],
          "name": "stdout"
        }
      ]
    },
    {
      "cell_type": "code",
      "metadata": {
        "id": "QO1kH72M-VKT",
        "outputId": "35a425cd-a5ca-49c8-d0ac-0c3cfacaa3b1"
      },
      "source": [
        "# a = float(a)\n",
        "a"
      ],
      "execution_count": null,
      "outputs": [
        {
          "output_type": "execute_result",
          "data": {
            "text/plain": [
              "45.0"
            ]
          },
          "metadata": {
            "tags": []
          },
          "execution_count": 71
        }
      ]
    },
    {
      "cell_type": "markdown",
      "metadata": {
        "id": "eHmoKpuK-VKU"
      },
      "source": [
        "## Conditional Statements"
      ]
    },
    {
      "cell_type": "code",
      "metadata": {
        "id": "gc1ZyDqe-VKU",
        "outputId": "bc36c63e-ed0e-4b1a-b564-b4ca62578ff8"
      },
      "source": [
        "name = input(\"enter the key: \")"
      ],
      "execution_count": null,
      "outputs": [
        {
          "output_type": "stream",
          "text": [
            "enter the key: abc\n"
          ],
          "name": "stdout"
        }
      ]
    },
    {
      "cell_type": "code",
      "metadata": {
        "id": "qEiOGMwf-VKU",
        "outputId": "237f2112-3795-4217-8aec-9bcce6557136"
      },
      "source": [
        "if (name == \"abkc\"):\n",
        "    print(\"ss\")\n",
        "elif (name == \"go\"):\n",
        "    print(\"this is go\")\n",
        "else:\n",
        "    print(\"sorry\")  \n",
        "    "
      ],
      "execution_count": null,
      "outputs": [
        {
          "output_type": "stream",
          "text": [
            "sorry\n"
          ],
          "name": "stdout"
        }
      ]
    },
    {
      "cell_type": "markdown",
      "metadata": {
        "id": "7iAIItHF-VKU"
      },
      "source": [
        "## Operators"
      ]
    },
    {
      "cell_type": "code",
      "metadata": {
        "id": "IRhO4ue1-VKU",
        "outputId": "22cd3173-9f52-4d8c-ae3c-fb6edc50f4bb"
      },
      "source": [
        "True == False"
      ],
      "execution_count": null,
      "outputs": [
        {
          "output_type": "execute_result",
          "data": {
            "text/plain": [
              "False"
            ]
          },
          "metadata": {
            "tags": []
          },
          "execution_count": 89
        }
      ]
    },
    {
      "cell_type": "code",
      "metadata": {
        "id": "Pe94ga2g-VKU",
        "outputId": "4cb6933a-dcbc-4817-eedc-944d79deb6e8"
      },
      "source": [
        "True != False"
      ],
      "execution_count": null,
      "outputs": [
        {
          "output_type": "execute_result",
          "data": {
            "text/plain": [
              "True"
            ]
          },
          "metadata": {
            "tags": []
          },
          "execution_count": 86
        }
      ]
    },
    {
      "cell_type": "code",
      "metadata": {
        "id": "3dvdvQUM-VKW",
        "outputId": "a1bbe488-f3d0-4924-8c4b-ff9b5b0f6e7b"
      },
      "source": [
        "True <= False"
      ],
      "execution_count": null,
      "outputs": [
        {
          "output_type": "execute_result",
          "data": {
            "text/plain": [
              "False"
            ]
          },
          "metadata": {
            "tags": []
          },
          "execution_count": 94
        }
      ]
    },
    {
      "cell_type": "code",
      "metadata": {
        "id": "x1wKFLxe-VKW",
        "outputId": "ede6d244-603e-46c7-c6b5-bb782e372a70"
      },
      "source": [
        "True > False"
      ],
      "execution_count": null,
      "outputs": [
        {
          "output_type": "execute_result",
          "data": {
            "text/plain": [
              "True"
            ]
          },
          "metadata": {
            "tags": []
          },
          "execution_count": 95
        }
      ]
    },
    {
      "cell_type": "code",
      "metadata": {
        "id": "Aua_-CF4-VKW",
        "outputId": "d48ca84c-228a-4007-fbe3-5537f7987a9c"
      },
      "source": [
        "int(True)"
      ],
      "execution_count": null,
      "outputs": [
        {
          "output_type": "execute_result",
          "data": {
            "text/plain": [
              "1"
            ]
          },
          "metadata": {
            "tags": []
          },
          "execution_count": 90
        }
      ]
    },
    {
      "cell_type": "code",
      "metadata": {
        "id": "VNMnNGQp-VKW",
        "outputId": "2a36b164-55e0-48b2-adf3-8094111b83dc"
      },
      "source": [
        "int(False)"
      ],
      "execution_count": null,
      "outputs": [
        {
          "output_type": "execute_result",
          "data": {
            "text/plain": [
              "0"
            ]
          },
          "metadata": {
            "tags": []
          },
          "execution_count": 91
        }
      ]
    },
    {
      "cell_type": "code",
      "metadata": {
        "id": "t7GsFKO7-VKW",
        "outputId": "e1c58a93-fe09-42ef-a41e-78911ce28630"
      },
      "source": [
        "True and False"
      ],
      "execution_count": null,
      "outputs": [
        {
          "output_type": "execute_result",
          "data": {
            "text/plain": [
              "False"
            ]
          },
          "metadata": {
            "tags": []
          },
          "execution_count": 96
        }
      ]
    },
    {
      "cell_type": "code",
      "metadata": {
        "id": "6FTyLfNd-VKX",
        "outputId": "8f148b13-0ca2-4550-f02c-faadd540ab36"
      },
      "source": [
        "True and False"
      ],
      "execution_count": null,
      "outputs": [
        {
          "output_type": "execute_result",
          "data": {
            "text/plain": [
              "True"
            ]
          },
          "metadata": {
            "tags": []
          },
          "execution_count": 97
        }
      ]
    },
    {
      "cell_type": "code",
      "metadata": {
        "id": "FXihl_hE-VKX",
        "outputId": "2c89f4c6-293c-4777-b31c-ca0d9a93525a"
      },
      "source": [
        "False and False"
      ],
      "execution_count": null,
      "outputs": [
        {
          "output_type": "execute_result",
          "data": {
            "text/plain": [
              "False"
            ]
          },
          "metadata": {
            "tags": []
          },
          "execution_count": 98
        }
      ]
    },
    {
      "cell_type": "code",
      "metadata": {
        "id": "lx8gZZNz-VKX",
        "outputId": "0f7bfafd-ffc4-4882-fa61-01f3d79de336"
      },
      "source": [
        "not True"
      ],
      "execution_count": null,
      "outputs": [
        {
          "output_type": "execute_result",
          "data": {
            "text/plain": [
              "False"
            ]
          },
          "metadata": {
            "tags": []
          },
          "execution_count": 99
        }
      ]
    },
    {
      "cell_type": "code",
      "metadata": {
        "id": "s32CLLU_-VKX",
        "outputId": "67536200-1c87-4de6-ed13-2488af185900"
      },
      "source": [
        "bool(0)"
      ],
      "execution_count": null,
      "outputs": [
        {
          "output_type": "execute_result",
          "data": {
            "text/plain": [
              "False"
            ]
          },
          "metadata": {
            "tags": []
          },
          "execution_count": 100
        }
      ]
    },
    {
      "cell_type": "code",
      "metadata": {
        "id": "t2Co-9iS-VKX",
        "outputId": "796a74cf-4aaf-4dc9-f3ea-5bc6e87eae84"
      },
      "source": [
        "bool(1)"
      ],
      "execution_count": null,
      "outputs": [
        {
          "output_type": "execute_result",
          "data": {
            "text/plain": [
              "True"
            ]
          },
          "metadata": {
            "tags": []
          },
          "execution_count": 101
        }
      ]
    },
    {
      "cell_type": "code",
      "metadata": {
        "id": "ZzHaFTBn-VKY",
        "outputId": "70726125-bf11-4707-8726-47feb3849223"
      },
      "source": [
        "bool(-4564)"
      ],
      "execution_count": null,
      "outputs": [
        {
          "output_type": "execute_result",
          "data": {
            "text/plain": [
              "True"
            ]
          },
          "metadata": {
            "tags": []
          },
          "execution_count": 102
        }
      ]
    },
    {
      "cell_type": "markdown",
      "metadata": {
        "id": "uuok1JlG-VKY"
      },
      "source": [
        "### is vs =="
      ]
    },
    {
      "cell_type": "code",
      "metadata": {
        "id": "Jr4-pe7t-VKY"
      },
      "source": [
        "a = 1"
      ],
      "execution_count": null,
      "outputs": []
    },
    {
      "cell_type": "code",
      "metadata": {
        "id": "zczNhs64-VKY",
        "outputId": "f013eb3e-2393-4b6e-9483-e8bf9c8a38ca"
      },
      "source": [
        "a == 1"
      ],
      "execution_count": null,
      "outputs": [
        {
          "output_type": "execute_result",
          "data": {
            "text/plain": [
              "True"
            ]
          },
          "metadata": {
            "tags": []
          },
          "execution_count": 104
        }
      ]
    },
    {
      "cell_type": "code",
      "metadata": {
        "id": "XFmKMQs8-VKY"
      },
      "source": [
        "b =1"
      ],
      "execution_count": null,
      "outputs": []
    },
    {
      "cell_type": "code",
      "metadata": {
        "id": "uqbOL7SK-VKY",
        "outputId": "bc64a6a1-43b5-4827-b531-50c489c535aa"
      },
      "source": [
        "a == b"
      ],
      "execution_count": null,
      "outputs": [
        {
          "output_type": "execute_result",
          "data": {
            "text/plain": [
              "True"
            ]
          },
          "metadata": {
            "tags": []
          },
          "execution_count": 106
        }
      ]
    },
    {
      "cell_type": "code",
      "metadata": {
        "id": "yTw7FcPN-VKZ",
        "outputId": "6e2f6aa4-e2ca-4dd8-98e2-d29a7f9f2ceb"
      },
      "source": [
        "a is b"
      ],
      "execution_count": null,
      "outputs": [
        {
          "output_type": "execute_result",
          "data": {
            "text/plain": [
              "True"
            ]
          },
          "metadata": {
            "tags": []
          },
          "execution_count": 107
        }
      ]
    },
    {
      "cell_type": "code",
      "metadata": {
        "id": "w7gRSW2C-VKZ",
        "outputId": "a98b1830-901f-4e98-d677-3bbc98d405f8"
      },
      "source": [
        "a is 1"
      ],
      "execution_count": null,
      "outputs": [
        {
          "output_type": "stream",
          "text": [
            "<>:1: SyntaxWarning: \"is\" with a literal. Did you mean \"==\"?\n",
            "<>:1: SyntaxWarning: \"is\" with a literal. Did you mean \"==\"?\n",
            "<ipython-input-108-9a4f168196e7>:1: SyntaxWarning: \"is\" with a literal. Did you mean \"==\"?\n",
            "  a is 1\n"
          ],
          "name": "stderr"
        },
        {
          "output_type": "execute_result",
          "data": {
            "text/plain": [
              "True"
            ]
          },
          "metadata": {
            "tags": []
          },
          "execution_count": 108
        }
      ]
    },
    {
      "cell_type": "code",
      "metadata": {
        "id": "i3m1DBvM-VKZ"
      },
      "source": [
        "a = [1, 2, 3]\n",
        "b = [1, 2, 3]"
      ],
      "execution_count": null,
      "outputs": []
    },
    {
      "cell_type": "code",
      "metadata": {
        "id": "gYJPAl35-VKZ",
        "outputId": "0e3c2640-dc95-45de-e2d7-088c4d596651"
      },
      "source": [
        "a == b"
      ],
      "execution_count": null,
      "outputs": [
        {
          "output_type": "execute_result",
          "data": {
            "text/plain": [
              "True"
            ]
          },
          "metadata": {
            "tags": []
          },
          "execution_count": 110
        }
      ]
    },
    {
      "cell_type": "code",
      "metadata": {
        "id": "J2CkpOKW-VKZ",
        "outputId": "86d537e8-197c-4221-b659-db19362a9573"
      },
      "source": [
        "a is b"
      ],
      "execution_count": null,
      "outputs": [
        {
          "output_type": "execute_result",
          "data": {
            "text/plain": [
              "False"
            ]
          },
          "metadata": {
            "tags": []
          },
          "execution_count": 111
        }
      ]
    },
    {
      "cell_type": "code",
      "metadata": {
        "id": "4AXRoMDn-VKa",
        "outputId": "d3339891-e2ee-4a76-ad32-0501bf2a3847"
      },
      "source": [
        "hex(id(a))"
      ],
      "execution_count": null,
      "outputs": [
        {
          "output_type": "execute_result",
          "data": {
            "text/plain": [
              "'0x7fb7fd429c00'"
            ]
          },
          "metadata": {
            "tags": []
          },
          "execution_count": 112
        }
      ]
    },
    {
      "cell_type": "code",
      "metadata": {
        "id": "77oUq2_I-VKa",
        "outputId": "5be81d30-0ae6-4fdd-9eb4-e76089b1ad4f"
      },
      "source": [
        "hex(id(b))"
      ],
      "execution_count": null,
      "outputs": [
        {
          "output_type": "execute_result",
          "data": {
            "text/plain": [
              "'0x7fb7fd41c940'"
            ]
          },
          "metadata": {
            "tags": []
          },
          "execution_count": 113
        }
      ]
    },
    {
      "cell_type": "code",
      "metadata": {
        "id": "YAtgKEDM-VKa"
      },
      "source": [
        "a = 1"
      ],
      "execution_count": null,
      "outputs": []
    },
    {
      "cell_type": "code",
      "metadata": {
        "id": "y5aXHRyG-VKa",
        "outputId": "c2fe9bd1-c52a-4eea-cb5b-7b4af772afb0"
      },
      "source": [
        "hex(id(a))"
      ],
      "execution_count": null,
      "outputs": [
        {
          "output_type": "execute_result",
          "data": {
            "text/plain": [
              "'0x100885960'"
            ]
          },
          "metadata": {
            "tags": []
          },
          "execution_count": 115
        }
      ]
    },
    {
      "cell_type": "code",
      "metadata": {
        "id": "YmxB80Z1-VKb",
        "outputId": "7e7d53bb-70e8-4c24-f7b1-277ac17a98f2"
      },
      "source": [
        "hex(id(1))"
      ],
      "execution_count": null,
      "outputs": [
        {
          "output_type": "execute_result",
          "data": {
            "text/plain": [
              "'0x100885960'"
            ]
          },
          "metadata": {
            "tags": []
          },
          "execution_count": 116
        }
      ]
    },
    {
      "cell_type": "markdown",
      "metadata": {
        "id": "h9shdfCt-VKb"
      },
      "source": [
        "## LOOPS"
      ]
    },
    {
      "cell_type": "markdown",
      "metadata": {
        "id": "_3m_vKff-VKb"
      },
      "source": [
        "#### for"
      ]
    },
    {
      "cell_type": "code",
      "metadata": {
        "id": "bFrp1-CY-VKb",
        "outputId": "0abc99c6-0de3-405c-d8ee-256f25c74c85"
      },
      "source": [
        "for i in range(0, 5): \n",
        "    print(i, end = \" \")"
      ],
      "execution_count": null,
      "outputs": [
        {
          "output_type": "stream",
          "text": [
            "0 1 2 3 4 "
          ],
          "name": "stdout"
        }
      ]
    },
    {
      "cell_type": "code",
      "metadata": {
        "id": "fpWehU_I-VKb",
        "outputId": "d83015fe-b7dc-4008-c38a-e8dabdc6c956"
      },
      "source": [
        "for i in range(5): \n",
        "    print(i)"
      ],
      "execution_count": null,
      "outputs": [
        {
          "output_type": "stream",
          "text": [
            "0\n",
            "1\n",
            "2\n",
            "3\n",
            "4\n"
          ],
          "name": "stdout"
        }
      ]
    },
    {
      "cell_type": "code",
      "metadata": {
        "id": "a0yOVrdz-VKc",
        "outputId": "fde6787b-6661-4c41-c1c2-399fb5dc3737"
      },
      "source": [
        "# (start, stop, step)\n",
        "\n",
        "for i in range(0, 10, 2): \n",
        "    print(i, end = \" \")"
      ],
      "execution_count": null,
      "outputs": [
        {
          "output_type": "stream",
          "text": [
            "0 2 4 6 8 "
          ],
          "name": "stdout"
        }
      ]
    },
    {
      "cell_type": "code",
      "metadata": {
        "id": "z6ZXt04I-VKc",
        "outputId": "4049e547-6c7f-4f09-f729-8338f96fb0d7"
      },
      "source": [
        "# (start, stop, step)\n",
        "for i in range(10, 0, -4): \n",
        "    print(i, end = \" \")"
      ],
      "execution_count": null,
      "outputs": [
        {
          "output_type": "stream",
          "text": [
            "10 6 2 "
          ],
          "name": "stdout"
        }
      ]
    },
    {
      "cell_type": "markdown",
      "metadata": {
        "id": "B_8o5Awn-VKc"
      },
      "source": [
        "#### while"
      ]
    },
    {
      "cell_type": "code",
      "metadata": {
        "id": "MhURi4St-VKc",
        "outputId": "b5d39489-0de9-49ec-a910-0045d4f85286"
      },
      "source": [
        "i = 0\n",
        "while(i!=8):\n",
        "    print(i, end = \" \")\n",
        "    i = i+1\n",
        "#     i+=1"
      ],
      "execution_count": null,
      "outputs": [
        {
          "output_type": "stream",
          "text": [
            "0 1 2 3 4 5 6 7 "
          ],
          "name": "stdout"
        }
      ]
    },
    {
      "cell_type": "code",
      "metadata": {
        "id": "LZtINg0f-VKc",
        "outputId": "dffa39fe-7c71-41a2-d721-1d0d285eb666"
      },
      "source": [
        "i = 0\n",
        "while(i!=8):\n",
        "    for a in range(0, 4):\n",
        "        print(a, end = \" \")\n",
        "    print(\"\\nend of for \", i)\n",
        "    i = i+1"
      ],
      "execution_count": null,
      "outputs": [
        {
          "output_type": "stream",
          "text": [
            "0 1 2 3 \n",
            "end of for  0\n",
            "0 1 2 3 \n",
            "end of for  1\n",
            "0 1 2 3 \n",
            "end of for  2\n",
            "0 1 2 3 \n",
            "end of for  3\n",
            "0 1 2 3 \n",
            "end of for  4\n",
            "0 1 2 3 \n",
            "end of for  5\n",
            "0 1 2 3 \n",
            "end of for  6\n",
            "0 1 2 3 \n",
            "end of for  7\n"
          ],
          "name": "stdout"
        }
      ]
    },
    {
      "cell_type": "markdown",
      "metadata": {
        "id": "esrBhItG-VKd"
      },
      "source": [
        "## LISTS"
      ]
    },
    {
      "cell_type": "code",
      "metadata": {
        "id": "0oPUnkZd-VKe"
      },
      "source": [
        "tasks = list()"
      ],
      "execution_count": null,
      "outputs": []
    },
    {
      "cell_type": "code",
      "metadata": {
        "id": "stgSfGsZ-VKe"
      },
      "source": [
        "tasks = [\"Install\", \"Python\", \"Break\"]"
      ],
      "execution_count": null,
      "outputs": []
    },
    {
      "cell_type": "code",
      "metadata": {
        "id": "ckxJiCwt-VKe",
        "outputId": "90e83d52-e4e8-4c53-a849-1f6610961eaf"
      },
      "source": [
        "tasks"
      ],
      "execution_count": null,
      "outputs": [
        {
          "output_type": "execute_result",
          "data": {
            "text/plain": [
              "['Install', 'Python', 'Break']"
            ]
          },
          "metadata": {
            "tags": []
          },
          "execution_count": 148
        }
      ]
    },
    {
      "cell_type": "code",
      "metadata": {
        "id": "Ew4a-e9j-VKe",
        "outputId": "57cca7f4-c6d2-496f-8c5c-f2bef65a73f9"
      },
      "source": [
        "len(tasks)"
      ],
      "execution_count": null,
      "outputs": [
        {
          "output_type": "execute_result",
          "data": {
            "text/plain": [
              "3"
            ]
          },
          "metadata": {
            "tags": []
          },
          "execution_count": 149
        }
      ]
    },
    {
      "cell_type": "code",
      "metadata": {
        "id": "w-WcSCC8-VKf",
        "outputId": "96d1698d-09c2-4dc4-9877-fddbef71846c"
      },
      "source": [
        "tasks[1]"
      ],
      "execution_count": null,
      "outputs": [
        {
          "output_type": "execute_result",
          "data": {
            "text/plain": [
              "'Python'"
            ]
          },
          "metadata": {
            "tags": []
          },
          "execution_count": 150
        }
      ]
    },
    {
      "cell_type": "code",
      "metadata": {
        "id": "pmqQ6qP3-VKf",
        "outputId": "001ec6de-d260-47da-feb9-3dd545eccb30"
      },
      "source": [
        "tasks[-2]"
      ],
      "execution_count": null,
      "outputs": [
        {
          "output_type": "execute_result",
          "data": {
            "text/plain": [
              "'Python'"
            ]
          },
          "metadata": {
            "tags": []
          },
          "execution_count": 152
        }
      ]
    },
    {
      "cell_type": "code",
      "metadata": {
        "id": "SMmDK3gE-VKf",
        "outputId": "8a202eb1-3aae-4f00-b2b8-9fa0948b3235"
      },
      "source": [
        "\"abc\" in tasks"
      ],
      "execution_count": null,
      "outputs": [
        {
          "output_type": "execute_result",
          "data": {
            "text/plain": [
              "False"
            ]
          },
          "metadata": {
            "tags": []
          },
          "execution_count": 156
        }
      ]
    },
    {
      "cell_type": "code",
      "metadata": {
        "id": "A2Ru_2HB-VKf",
        "outputId": "643de6fa-cc89-4404-d13e-5fcda9d018aa"
      },
      "source": [
        "'Python' in tasks"
      ],
      "execution_count": null,
      "outputs": [
        {
          "output_type": "execute_result",
          "data": {
            "text/plain": [
              "True"
            ]
          },
          "metadata": {
            "tags": []
          },
          "execution_count": 157
        }
      ]
    },
    {
      "cell_type": "code",
      "metadata": {
        "id": "q7akw26K-VKf",
        "outputId": "f8d9f2a1-7e4b-4dd2-83fe-154becb17830"
      },
      "source": [
        "for element in tasks:\n",
        "    print(element)"
      ],
      "execution_count": null,
      "outputs": [
        {
          "output_type": "stream",
          "text": [
            "Install\n",
            "Python\n",
            "Break\n"
          ],
          "name": "stdout"
        }
      ]
    },
    {
      "cell_type": "code",
      "metadata": {
        "id": "718730hM-VKg",
        "outputId": "47d5c518-b199-4bbd-bedd-c6490e595db1"
      },
      "source": [
        "i = 0\n",
        "while(i<len(tasks)):\n",
        "    print(tasks[i])\n",
        "    i+=1"
      ],
      "execution_count": null,
      "outputs": [
        {
          "output_type": "stream",
          "text": [
            "Install\n",
            "Python\n",
            "Break\n"
          ],
          "name": "stdout"
        }
      ]
    },
    {
      "cell_type": "markdown",
      "metadata": {
        "id": "6SE2csxa-VKg"
      },
      "source": [
        "### append vs extend"
      ]
    },
    {
      "cell_type": "code",
      "metadata": {
        "id": "_ahVby-f-VKg",
        "outputId": "9f978aa2-0c56-48c7-a975-8bbf4d8f87b7"
      },
      "source": [
        "tasks"
      ],
      "execution_count": null,
      "outputs": [
        {
          "output_type": "execute_result",
          "data": {
            "text/plain": [
              "['Install', 'Python', 'Break']"
            ]
          },
          "metadata": {
            "tags": []
          },
          "execution_count": 171
        }
      ]
    },
    {
      "cell_type": "code",
      "metadata": {
        "id": "VYP4OqU_-VKg"
      },
      "source": [
        "tasks.append(\"hi\")"
      ],
      "execution_count": null,
      "outputs": []
    },
    {
      "cell_type": "code",
      "metadata": {
        "id": "wPg3ugSD-VKg",
        "outputId": "1d92fae9-dc23-4cd1-dc4d-44cb240905ee"
      },
      "source": [
        "tasks"
      ],
      "execution_count": null,
      "outputs": [
        {
          "output_type": "execute_result",
          "data": {
            "text/plain": [
              "['Install', 'Python', 'Break', 'hi']"
            ]
          },
          "metadata": {
            "tags": []
          },
          "execution_count": 173
        }
      ]
    },
    {
      "cell_type": "code",
      "metadata": {
        "id": "rJ6_2OC--VKh",
        "outputId": "8b92250b-15c5-4e92-f3a5-9923e7dbb2c0"
      },
      "source": [
        "tasks.append([1, 4, 34])\n",
        "tasks"
      ],
      "execution_count": null,
      "outputs": [
        {
          "output_type": "execute_result",
          "data": {
            "text/plain": [
              "['Install', 'Python', 'Break', 'hi', [1, 4, 34]]"
            ]
          },
          "metadata": {
            "tags": []
          },
          "execution_count": 174
        }
      ]
    },
    {
      "cell_type": "code",
      "metadata": {
        "id": "qeCl7neK-VKh",
        "outputId": "272ea1af-932a-45cf-bd92-cc1af3aaf25b"
      },
      "source": [
        "tasks[4][0]"
      ],
      "execution_count": null,
      "outputs": [
        {
          "output_type": "execute_result",
          "data": {
            "text/plain": [
              "1"
            ]
          },
          "metadata": {
            "tags": []
          },
          "execution_count": 175
        }
      ]
    },
    {
      "cell_type": "code",
      "metadata": {
        "id": "CBrYqPRi-VKh",
        "outputId": "8037f35e-1937-40d5-e8d0-ff67687c91f4"
      },
      "source": [
        "tasks.extend([13, 214, 334])\n",
        "tasks"
      ],
      "execution_count": null,
      "outputs": [
        {
          "output_type": "execute_result",
          "data": {
            "text/plain": [
              "['Install', 'Python', 'Break', 13, 214, 334]"
            ]
          },
          "metadata": {
            "tags": []
          },
          "execution_count": 183
        }
      ]
    },
    {
      "cell_type": "markdown",
      "metadata": {
        "id": "PhHAS1-4-VKh"
      },
      "source": [
        "### insert"
      ]
    },
    {
      "cell_type": "code",
      "metadata": {
        "id": "ZPJZy-11-VKh",
        "outputId": "dd0e9dfb-0123-4d57-a90e-7e0d854da65d"
      },
      "source": [
        "tasks"
      ],
      "execution_count": null,
      "outputs": [
        {
          "output_type": "execute_result",
          "data": {
            "text/plain": [
              "['Install', 'Python', 'Break', 'hi', [1, 4, 34], 13, 214, 334]"
            ]
          },
          "metadata": {
            "tags": []
          },
          "execution_count": 177
        }
      ]
    },
    {
      "cell_type": "code",
      "metadata": {
        "id": "ocG-HLxU-VKi",
        "outputId": "a16c43ba-39e0-4978-967f-0aa95a516e36"
      },
      "source": [
        "tasks.insert(2, \"new_elemn\")\n",
        "tasks"
      ],
      "execution_count": null,
      "outputs": [
        {
          "output_type": "execute_result",
          "data": {
            "text/plain": [
              "['Install', 'Python', 'new_elemn', 'Break', 'hi', [1, 4, 34], 13, 214, 334]"
            ]
          },
          "metadata": {
            "tags": []
          },
          "execution_count": 178
        }
      ]
    },
    {
      "cell_type": "code",
      "metadata": {
        "id": "R1yMhNHT-VKi",
        "outputId": "4c29f745-de42-49a4-c5ea-5c5f75dfd48a"
      },
      "source": [
        "tasks.insert(-1, \"new_elemn\")\n",
        "tasks"
      ],
      "execution_count": null,
      "outputs": [
        {
          "output_type": "execute_result",
          "data": {
            "text/plain": [
              "['Install',\n",
              " 'Python',\n",
              " 'new_elemn',\n",
              " 'Break',\n",
              " 'hi',\n",
              " [1, 4, 34],\n",
              " 13,\n",
              " 214,\n",
              " 'new_elemn',\n",
              " 334]"
            ]
          },
          "metadata": {
            "tags": []
          },
          "execution_count": 179
        }
      ]
    },
    {
      "cell_type": "code",
      "metadata": {
        "id": "Ggsg3cCy-VKi",
        "outputId": "3390034f-f094-4e97-9815-a91f3db3e2ba"
      },
      "source": [
        "tasks.clear()\n",
        "tasks"
      ],
      "execution_count": null,
      "outputs": [
        {
          "output_type": "execute_result",
          "data": {
            "text/plain": [
              "[]"
            ]
          },
          "metadata": {
            "tags": []
          },
          "execution_count": 181
        }
      ]
    },
    {
      "cell_type": "code",
      "metadata": {
        "id": "O3_Dno0x-VKi",
        "outputId": "6d9bb621-da43-45d5-d47a-c9cb98d06442"
      },
      "source": [
        "tasks"
      ],
      "execution_count": null,
      "outputs": [
        {
          "output_type": "execute_result",
          "data": {
            "text/plain": [
              "['Install', 'Python', 'Break', 13, 214, 334]"
            ]
          },
          "metadata": {
            "tags": []
          },
          "execution_count": 184
        }
      ]
    },
    {
      "cell_type": "code",
      "metadata": {
        "id": "IEMoCPXR-VKi",
        "outputId": "6e830c73-65af-4db1-edcb-b8286e6001a1"
      },
      "source": [
        "tasks.pop()"
      ],
      "execution_count": null,
      "outputs": [
        {
          "output_type": "execute_result",
          "data": {
            "text/plain": [
              "334"
            ]
          },
          "metadata": {
            "tags": []
          },
          "execution_count": 185
        }
      ]
    },
    {
      "cell_type": "code",
      "metadata": {
        "id": "YI-jOt0H-VKj",
        "outputId": "29f65394-7429-4406-d0d0-cc583feda630"
      },
      "source": [
        "tasks"
      ],
      "execution_count": null,
      "outputs": [
        {
          "output_type": "execute_result",
          "data": {
            "text/plain": [
              "['Install', 'Python', 'Break', 13, 214]"
            ]
          },
          "metadata": {
            "tags": []
          },
          "execution_count": 186
        }
      ]
    },
    {
      "cell_type": "code",
      "metadata": {
        "id": "MUJCJhdT-VKj",
        "outputId": "9c3a4a5c-afa0-4100-caee-97839626aaa0"
      },
      "source": [
        "# pop takes index value\n",
        "tasks.pop(1)\n",
        "tasks"
      ],
      "execution_count": null,
      "outputs": [
        {
          "output_type": "execute_result",
          "data": {
            "text/plain": [
              "['Install', 'Break', 13, 214]"
            ]
          },
          "metadata": {
            "tags": []
          },
          "execution_count": 187
        }
      ]
    },
    {
      "cell_type": "code",
      "metadata": {
        "id": "01wf5ZZj-VKj",
        "outputId": "7c3fb3db-7347-40ed-9b0c-b89153776ae3"
      },
      "source": [
        "# remove the value element wise\n",
        "tasks.remove(13)\n",
        "tasks"
      ],
      "execution_count": null,
      "outputs": [
        {
          "output_type": "execute_result",
          "data": {
            "text/plain": [
              "['Install', 'Break', 214]"
            ]
          },
          "metadata": {
            "tags": []
          },
          "execution_count": 188
        }
      ]
    },
    {
      "cell_type": "code",
      "metadata": {
        "id": "BO3fM1J2-VKj"
      },
      "source": [
        "a = [1, 1, 3, 1, 4, 4]"
      ],
      "execution_count": null,
      "outputs": []
    },
    {
      "cell_type": "code",
      "metadata": {
        "id": "BQOZe4Yk-VKj",
        "outputId": "26b9fc48-5ff2-4b77-ef26-788e399f7d75"
      },
      "source": [
        "a.remove(1)\n",
        "a"
      ],
      "execution_count": null,
      "outputs": [
        {
          "output_type": "execute_result",
          "data": {
            "text/plain": [
              "[1, 3, 1, 4, 4]"
            ]
          },
          "metadata": {
            "tags": []
          },
          "execution_count": 193
        }
      ]
    },
    {
      "cell_type": "code",
      "metadata": {
        "id": "au9vsdoO-VKk",
        "outputId": "3fa16b77-1705-4ff3-fa13-3bc54dfb10d0"
      },
      "source": [
        "a.count(4)"
      ],
      "execution_count": null,
      "outputs": [
        {
          "output_type": "execute_result",
          "data": {
            "text/plain": [
              "2"
            ]
          },
          "metadata": {
            "tags": []
          },
          "execution_count": 194
        }
      ]
    },
    {
      "cell_type": "markdown",
      "metadata": {
        "id": "FF74WzZr-VKk"
      },
      "source": [
        "## LIST Comprehension"
      ]
    },
    {
      "cell_type": "code",
      "metadata": {
        "id": "K_0A8aXC-VKk",
        "outputId": "a23165f5-c5c1-432d-f034-c32b2e49071e"
      },
      "source": [
        "num = [1, 2, 3, 4]\n",
        "\n",
        "double_num = []\n",
        "\n",
        "for i in num:\n",
        "    double_num.append(i*2)\n",
        "print(double_num)"
      ],
      "execution_count": null,
      "outputs": [
        {
          "output_type": "stream",
          "text": [
            "[2, 4, 6, 8]\n"
          ],
          "name": "stdout"
        }
      ]
    },
    {
      "cell_type": "code",
      "metadata": {
        "id": "9VgMwX1f-VKk",
        "outputId": "08c4db9a-be40-4b9a-c059-1d2d384e32a3"
      },
      "source": [
        "d_num = [i*2 for i in num]\n",
        "d_num"
      ],
      "execution_count": null,
      "outputs": [
        {
          "output_type": "execute_result",
          "data": {
            "text/plain": [
              "[2, 4, 6, 8]"
            ]
          },
          "metadata": {
            "tags": []
          },
          "execution_count": 196
        }
      ]
    },
    {
      "cell_type": "code",
      "metadata": {
        "id": "0XK_jPQq-VKk"
      },
      "source": [
        "a = [i**2 for i in num]"
      ],
      "execution_count": null,
      "outputs": []
    },
    {
      "cell_type": "code",
      "metadata": {
        "id": "pF48Dbfs-VKk",
        "outputId": "404643cd-511a-4276-d4a1-48cb449d645e"
      },
      "source": [
        "a"
      ],
      "execution_count": null,
      "outputs": [
        {
          "output_type": "execute_result",
          "data": {
            "text/plain": [
              "[1, 4, 9, 16]"
            ]
          },
          "metadata": {
            "tags": []
          },
          "execution_count": 198
        }
      ]
    },
    {
      "cell_type": "markdown",
      "metadata": {
        "id": "5Im7Blwz-VKl"
      },
      "source": [
        "# Tuple"
      ]
    },
    {
      "cell_type": "code",
      "metadata": {
        "id": "rMUuLM7z-VKl",
        "outputId": "b75f05fd-c06c-4bf4-f690-7a9ec9a18c9d"
      },
      "source": [
        "a = tuple()\n",
        "a"
      ],
      "execution_count": null,
      "outputs": [
        {
          "output_type": "execute_result",
          "data": {
            "text/plain": [
              "()"
            ]
          },
          "metadata": {
            "tags": []
          },
          "execution_count": 221
        }
      ]
    },
    {
      "cell_type": "code",
      "metadata": {
        "id": "f7v_KZT4-VKm",
        "outputId": "eff10f27-9e70-4c99-dc8d-06c05db56c26"
      },
      "source": [
        "b = tuple([2, 3, 4])\n",
        "b"
      ],
      "execution_count": null,
      "outputs": [
        {
          "output_type": "execute_result",
          "data": {
            "text/plain": [
              "(2, 3, 4)"
            ]
          },
          "metadata": {
            "tags": []
          },
          "execution_count": 222
        }
      ]
    },
    {
      "cell_type": "code",
      "metadata": {
        "id": "jprVWN-Z-VKm",
        "outputId": "db7e8f79-0f25-4a02-9db4-a36efaf498fd"
      },
      "source": [
        "y_list = [2, 3, 4]\n",
        "c = tuple(i for i in y_list)\n",
        "c"
      ],
      "execution_count": null,
      "outputs": [
        {
          "output_type": "execute_result",
          "data": {
            "text/plain": [
              "(2, 3, 4)"
            ]
          },
          "metadata": {
            "tags": []
          },
          "execution_count": 223
        }
      ]
    },
    {
      "cell_type": "code",
      "metadata": {
        "id": "66mfJuK--VKm",
        "outputId": "934dc49c-ddb9-42a6-b87e-5d3819dadc03"
      },
      "source": [
        "a = ()\n",
        "a"
      ],
      "execution_count": null,
      "outputs": [
        {
          "output_type": "execute_result",
          "data": {
            "text/plain": [
              "()"
            ]
          },
          "metadata": {
            "tags": []
          },
          "execution_count": 201
        }
      ]
    },
    {
      "cell_type": "code",
      "metadata": {
        "id": "tyN2O91G-VKm"
      },
      "source": [
        "x = (1, 2 ,3)"
      ],
      "execution_count": null,
      "outputs": []
    },
    {
      "cell_type": "code",
      "metadata": {
        "id": "L8BnHlYD-VKn",
        "outputId": "f16ae7d5-7455-4fd5-c148-0e5d32278e23"
      },
      "source": [
        "3 in x"
      ],
      "execution_count": null,
      "outputs": [
        {
          "output_type": "execute_result",
          "data": {
            "text/plain": [
              "True"
            ]
          },
          "metadata": {
            "tags": []
          },
          "execution_count": 203
        }
      ]
    },
    {
      "cell_type": "code",
      "metadata": {
        "id": "7xujKcTz-VKn",
        "outputId": "e285fba9-920f-49b2-d56c-ba444953b72a"
      },
      "source": [
        "x[0] = 89\n",
        "x"
      ],
      "execution_count": null,
      "outputs": [
        {
          "output_type": "error",
          "ename": "TypeError",
          "evalue": "'tuple' object does not support item assignment",
          "traceback": [
            "\u001b[0;31m---------------------------------------------------------------------------\u001b[0m",
            "\u001b[0;31mTypeError\u001b[0m                                 Traceback (most recent call last)",
            "\u001b[0;32m<ipython-input-208-c8460cb79f6f>\u001b[0m in \u001b[0;36m<module>\u001b[0;34m\u001b[0m\n\u001b[0;32m----> 1\u001b[0;31m \u001b[0mx\u001b[0m\u001b[0;34m[\u001b[0m\u001b[0;36m0\u001b[0m\u001b[0;34m]\u001b[0m \u001b[0;34m=\u001b[0m \u001b[0;36m89\u001b[0m\u001b[0;34m\u001b[0m\u001b[0;34m\u001b[0m\u001b[0m\n\u001b[0m\u001b[1;32m      2\u001b[0m \u001b[0mx\u001b[0m\u001b[0;34m\u001b[0m\u001b[0;34m\u001b[0m\u001b[0m\n",
            "\u001b[0;31mTypeError\u001b[0m: 'tuple' object does not support item assignment"
          ]
        }
      ]
    },
    {
      "cell_type": "code",
      "metadata": {
        "id": "6YREySEq-VKn",
        "outputId": "f277a94f-6073-4a8e-f713-8cef3051f2e2"
      },
      "source": [
        "y = [1, 2, 3]\n",
        "y"
      ],
      "execution_count": null,
      "outputs": [
        {
          "output_type": "execute_result",
          "data": {
            "text/plain": [
              "[1, 2, 3]"
            ]
          },
          "metadata": {
            "tags": []
          },
          "execution_count": 205
        }
      ]
    },
    {
      "cell_type": "code",
      "metadata": {
        "id": "AOlkyPhY-VKn",
        "outputId": "8212bb76-522c-4f94-fcdd-3bfe07abb80e"
      },
      "source": [
        "y[0] = 89\n",
        "y"
      ],
      "execution_count": null,
      "outputs": [
        {
          "output_type": "execute_result",
          "data": {
            "text/plain": [
              "[89, 2, 3]"
            ]
          },
          "metadata": {
            "tags": []
          },
          "execution_count": 207
        }
      ]
    },
    {
      "cell_type": "markdown",
      "metadata": {
        "id": "zldikmYF-VKn"
      },
      "source": [
        "do int take 8 byte in list and more byte in tuple ?"
      ]
    },
    {
      "cell_type": "code",
      "metadata": {
        "id": "ruaXjAIO-VKo",
        "outputId": "38f99dc5-caa4-4868-d0c3-0af6175089eb"
      },
      "source": [
        "x = (1, 2 ,4, 4, 4)\n",
        "x"
      ],
      "execution_count": null,
      "outputs": [
        {
          "output_type": "execute_result",
          "data": {
            "text/plain": [
              "(1, 2, 4, 4, 4)"
            ]
          },
          "metadata": {
            "tags": []
          },
          "execution_count": 213
        }
      ]
    },
    {
      "cell_type": "code",
      "metadata": {
        "id": "0tUwdL17-VKo",
        "outputId": "d0ebf8e5-a1f6-4d20-df94-906f3e706b5b"
      },
      "source": [
        "x[2]"
      ],
      "execution_count": null,
      "outputs": [
        {
          "output_type": "execute_result",
          "data": {
            "text/plain": [
              "4"
            ]
          },
          "metadata": {
            "tags": []
          },
          "execution_count": 214
        }
      ]
    },
    {
      "cell_type": "code",
      "metadata": {
        "id": "BFUIWmc7-VKo",
        "outputId": "0149736b-16fd-4ad4-904a-3638848ef63a"
      },
      "source": [
        "x[-1]"
      ],
      "execution_count": null,
      "outputs": [
        {
          "output_type": "execute_result",
          "data": {
            "text/plain": [
              "4"
            ]
          },
          "metadata": {
            "tags": []
          },
          "execution_count": 215
        }
      ]
    },
    {
      "cell_type": "code",
      "metadata": {
        "id": "-ayw__9c-VKo",
        "outputId": "d2cea47c-7a99-46f6-bfeb-8637e1d8e134"
      },
      "source": [
        "type(x)"
      ],
      "execution_count": null,
      "outputs": [
        {
          "output_type": "execute_result",
          "data": {
            "text/plain": [
              "tuple"
            ]
          },
          "metadata": {
            "tags": []
          },
          "execution_count": 216
        }
      ]
    },
    {
      "cell_type": "code",
      "metadata": {
        "id": "qK406slO-VKo",
        "outputId": "f59baf20-8fd7-423c-def9-bde9c70ad370"
      },
      "source": [
        "x.count(4)"
      ],
      "execution_count": null,
      "outputs": [
        {
          "output_type": "execute_result",
          "data": {
            "text/plain": [
              "3"
            ]
          },
          "metadata": {
            "tags": []
          },
          "execution_count": 217
        }
      ]
    },
    {
      "cell_type": "code",
      "metadata": {
        "id": "FLhYMx4X-VKp",
        "outputId": "fd81ef41-b421-4717-bd3e-49b740feeb98"
      },
      "source": [
        "a = ([1, 2,3])\n",
        "a"
      ],
      "execution_count": null,
      "outputs": [
        {
          "output_type": "execute_result",
          "data": {
            "text/plain": [
              "[1, 2, 3]"
            ]
          },
          "metadata": {
            "tags": []
          },
          "execution_count": 218
        }
      ]
    },
    {
      "cell_type": "markdown",
      "metadata": {
        "id": "_wVGM2Lq-VKp"
      },
      "source": [
        "# DICTIONARY"
      ]
    },
    {
      "cell_type": "code",
      "metadata": {
        "id": "EFRIOn2v-VKp",
        "outputId": "cdaf86ed-a2f7-40d2-e4e8-69a9c2c85eac"
      },
      "source": [
        "instructor = dict()\n",
        "instructor"
      ],
      "execution_count": null,
      "outputs": [
        {
          "output_type": "execute_result",
          "data": {
            "text/plain": [
              "{}"
            ]
          },
          "metadata": {
            "tags": []
          },
          "execution_count": 225
        }
      ]
    },
    {
      "cell_type": "code",
      "metadata": {
        "id": "DgppxAXC-VKp"
      },
      "source": [
        "instructor = {\n",
        "    \"age\": [3, 4, 5],\n",
        "    \"age\": [31, 42, 15],\n",
        "    \"num_course\": [3, 5, 7],\n",
        "    44 : True\n",
        "}"
      ],
      "execution_count": null,
      "outputs": []
    },
    {
      "cell_type": "code",
      "metadata": {
        "id": "F-etovCg-VKp",
        "outputId": "dff12dae-e6d3-422a-ae06-b2839195130e"
      },
      "source": [
        "instructor"
      ],
      "execution_count": null,
      "outputs": [
        {
          "output_type": "execute_result",
          "data": {
            "text/plain": [
              "{'age': [31, 42, 15], 'num_course': [3, 5, 7], 44: True}"
            ]
          },
          "metadata": {
            "tags": []
          },
          "execution_count": 231
        }
      ]
    },
    {
      "cell_type": "code",
      "metadata": {
        "id": "MUONvMw--VKq",
        "outputId": "312eb692-fc69-42cd-fe6e-7b624c7b79a6"
      },
      "source": [
        "instructor.keys()"
      ],
      "execution_count": null,
      "outputs": [
        {
          "output_type": "execute_result",
          "data": {
            "text/plain": [
              "dict_keys(['age', 'num_course', 44])"
            ]
          },
          "metadata": {
            "tags": []
          },
          "execution_count": 232
        }
      ]
    },
    {
      "cell_type": "code",
      "metadata": {
        "id": "5DwSBKuO-VKq",
        "outputId": "bece37ac-387a-4f22-dc02-68d582f5ef1d"
      },
      "source": [
        "instructor.values()"
      ],
      "execution_count": null,
      "outputs": [
        {
          "output_type": "execute_result",
          "data": {
            "text/plain": [
              "dict_values([[31, 42, 15], [3, 5, 7], True])"
            ]
          },
          "metadata": {
            "tags": []
          },
          "execution_count": 233
        }
      ]
    },
    {
      "cell_type": "code",
      "metadata": {
        "id": "kjxpssva-VKq",
        "outputId": "f9647482-35a6-4d2a-9b6a-b401e528aa2f"
      },
      "source": [
        "instructor.items()"
      ],
      "execution_count": null,
      "outputs": [
        {
          "output_type": "execute_result",
          "data": {
            "text/plain": [
              "dict_items([('age', [31, 42, 15]), ('num_course', [3, 5, 7]), (44, True)])"
            ]
          },
          "metadata": {
            "tags": []
          },
          "execution_count": 234
        }
      ]
    },
    {
      "cell_type": "code",
      "metadata": {
        "id": "Mz9M0xvs-VKq",
        "outputId": "893132b7-b0cd-4b29-e973-21e88933150f"
      },
      "source": [
        "for a, b in instructor.items():\n",
        "    print(f\"key = {a}, value = {b}\")"
      ],
      "execution_count": null,
      "outputs": [
        {
          "output_type": "stream",
          "text": [
            "key = age, value = [31, 42, 15]\n",
            "key = num_course, value = [3, 5, 7]\n",
            "key = 44, value = True\n"
          ],
          "name": "stdout"
        }
      ]
    },
    {
      "cell_type": "code",
      "metadata": {
        "id": "Sq4YDozx-VKr",
        "outputId": "a65cd124-acac-490b-fc5e-4407440b5b91"
      },
      "source": [
        "\"abc\" in instructor.values()"
      ],
      "execution_count": null,
      "outputs": [
        {
          "output_type": "execute_result",
          "data": {
            "text/plain": [
              "False"
            ]
          },
          "metadata": {
            "tags": []
          },
          "execution_count": 236
        }
      ]
    },
    {
      "cell_type": "code",
      "metadata": {
        "id": "NA-OPAvj-VKr"
      },
      "source": [
        ""
      ],
      "execution_count": null,
      "outputs": []
    },
    {
      "cell_type": "markdown",
      "metadata": {
        "id": "2PtTBpd1-VKr"
      },
      "source": [
        "# SET"
      ]
    },
    {
      "cell_type": "code",
      "metadata": {
        "id": "-9Hihb5M-VKr",
        "outputId": "0a5cf28a-1ab7-4845-b642-2ff1f6177e2f"
      },
      "source": [
        "s1 = set({1, 4, 4, 5, 5 ,2})\n",
        "s1"
      ],
      "execution_count": null,
      "outputs": [
        {
          "output_type": "execute_result",
          "data": {
            "text/plain": [
              "{1, 2, 4, 5}"
            ]
          },
          "metadata": {
            "tags": []
          },
          "execution_count": 237
        }
      ]
    },
    {
      "cell_type": "code",
      "metadata": {
        "id": "Ix2Y3ZxA-VKr",
        "outputId": "c8b0c976-edee-4a88-ecdd-4ebfa1c04751"
      },
      "source": [
        "s2 = {1, 4, 5}\n",
        "s2"
      ],
      "execution_count": null,
      "outputs": [
        {
          "output_type": "execute_result",
          "data": {
            "text/plain": [
              "{1, 4, 5}"
            ]
          },
          "metadata": {
            "tags": []
          },
          "execution_count": 238
        }
      ]
    },
    {
      "cell_type": "code",
      "metadata": {
        "id": "V9_ttLOn-VKs",
        "outputId": "4e07af31-8a2a-4beb-b201-2c2623a51647"
      },
      "source": [
        "type(s2)"
      ],
      "execution_count": null,
      "outputs": [
        {
          "output_type": "execute_result",
          "data": {
            "text/plain": [
              "set"
            ]
          },
          "metadata": {
            "tags": []
          },
          "execution_count": 239
        }
      ]
    },
    {
      "cell_type": "code",
      "metadata": {
        "id": "EWUqUDFp-VKs",
        "outputId": "1ca55866-2af8-4b44-f71a-db9f149663ba"
      },
      "source": [
        "for i in s2:\n",
        "    print(i)"
      ],
      "execution_count": null,
      "outputs": [
        {
          "output_type": "stream",
          "text": [
            "1\n",
            "4\n",
            "5\n"
          ],
          "name": "stdout"
        }
      ]
    },
    {
      "cell_type": "code",
      "metadata": {
        "id": "n4X0VTqx-VKs",
        "outputId": "ae22bc13-030b-4310-8431-8526b2816e4c"
      },
      "source": [
        "s2.remove(1)\n",
        "s2"
      ],
      "execution_count": null,
      "outputs": [
        {
          "output_type": "execute_result",
          "data": {
            "text/plain": [
              "{4, 5}"
            ]
          },
          "metadata": {
            "tags": []
          },
          "execution_count": 241
        }
      ]
    },
    {
      "cell_type": "code",
      "metadata": {
        "id": "JUkDpggU-VKs",
        "outputId": "3370c050-b803-4397-dec7-6388b9d41d06"
      },
      "source": [
        "s = {0, 1, 4, 9, 16, 25, 36, 64, 100, 81}\n",
        "s"
      ],
      "execution_count": null,
      "outputs": [
        {
          "output_type": "execute_result",
          "data": {
            "text/plain": [
              "{0, 1, 4, 9, 16, 25, 36, 64, 81, 100}"
            ]
          },
          "metadata": {
            "tags": []
          },
          "execution_count": 242
        }
      ]
    },
    {
      "cell_type": "code",
      "metadata": {
        "id": "15l2tP_3-VKs",
        "outputId": "8b900ba8-80ab-4d77-f449-587efd2fe04b"
      },
      "source": [
        "m = set([4, 6, 8, 10, 12, 14, 16])\n",
        "m"
      ],
      "execution_count": null,
      "outputs": [
        {
          "output_type": "execute_result",
          "data": {
            "text/plain": [
              "{4, 6, 8, 10, 12, 14, 16}"
            ]
          },
          "metadata": {
            "tags": []
          },
          "execution_count": 243
        }
      ]
    },
    {
      "cell_type": "code",
      "metadata": {
        "id": "Y_8T6vZq-VKt",
        "outputId": "cbc2671b-1030-4983-ae68-436f1b012f49"
      },
      "source": [
        "s.union(m)"
      ],
      "execution_count": null,
      "outputs": [
        {
          "output_type": "execute_result",
          "data": {
            "text/plain": [
              "{0, 1, 4, 6, 8, 9, 10, 12, 14, 16, 25, 36, 64, 81, 100}"
            ]
          },
          "metadata": {
            "tags": []
          },
          "execution_count": 244
        }
      ]
    },
    {
      "cell_type": "code",
      "metadata": {
        "id": "rAPkatp_-VKt",
        "outputId": "71172b84-e0ae-4c53-dc50-19fb62841fcb"
      },
      "source": [
        "s.intersection(m)"
      ],
      "execution_count": null,
      "outputs": [
        {
          "output_type": "execute_result",
          "data": {
            "text/plain": [
              "{4, 16}"
            ]
          },
          "metadata": {
            "tags": []
          },
          "execution_count": 245
        }
      ]
    },
    {
      "cell_type": "code",
      "metadata": {
        "id": "AyL7AeAx-VKu",
        "outputId": "5aae0a4a-a684-47dc-850f-41f1a21aad86"
      },
      "source": [
        "s.symmetric_difference(m)"
      ],
      "execution_count": null,
      "outputs": [
        {
          "output_type": "execute_result",
          "data": {
            "text/plain": [
              "{0, 1, 6, 8, 9, 10, 12, 14, 25, 36, 64, 81, 100}"
            ]
          },
          "metadata": {
            "tags": []
          },
          "execution_count": 246
        }
      ]
    },
    {
      "cell_type": "code",
      "metadata": {
        "id": "5UQZa2iW-VKu"
      },
      "source": [
        ""
      ],
      "execution_count": null,
      "outputs": []
    },
    {
      "cell_type": "markdown",
      "metadata": {
        "id": "XFxgMkuS-VKu"
      },
      "source": [
        "## <font color = \"red\">ASSIGNMENT </font>"
      ]
    },
    {
      "cell_type": "code",
      "metadata": {
        "id": "wNlCugon-VKv"
      },
      "source": [
        "input = [1, 2, 3, 4, 5, 6, 7]"
      ],
      "execution_count": null,
      "outputs": []
    },
    {
      "cell_type": "markdown",
      "metadata": {
        "id": "pgrdSXxn-VKv"
      },
      "source": [
        "Prepare a dictionary using list comprehension concept. \n",
        "Format for dictionary should be - \n",
        "- keys: list_elements\n",
        "- values: even or odd label"
      ]
    },
    {
      "cell_type": "markdown",
      "metadata": {
        "id": "BVJdlhwG-VKv"
      },
      "source": [
        "Final Output should be equal to {1: 'odd', 2: \"even\", ......}"
      ]
    },
    {
      "cell_type": "code",
      "metadata": {
        "id": "cavKy6q0-VKv"
      },
      "source": [
        ""
      ],
      "execution_count": null,
      "outputs": []
    }
  ]
}